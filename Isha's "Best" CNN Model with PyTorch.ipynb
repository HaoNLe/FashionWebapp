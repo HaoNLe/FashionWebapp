{
 "cells": [
  {
   "cell_type": "markdown",
   "metadata": {},
   "source": [
    "### Import Libraries "
   ]
  },
  {
   "cell_type": "code",
   "execution_count": 74,
   "metadata": {},
   "outputs": [],
   "source": [
    "# Pyton 2 and 3 support\n",
    "from __future__ import division, print_function, unicode_literals\n",
    "\n",
    "import pandas as pd\n",
    "import numpy as np\n",
    "import matplotlib.pyplot as plt\n",
    "\n",
    "import sklearn\n",
    "\n",
    "%matplotlib inline\n",
    "\n",
    "# Hide warnings\n",
    "import warnings\n",
    "warnings.filterwarnings('ignore')"
   ]
  },
  {
   "cell_type": "code",
   "execution_count": 75,
   "metadata": {},
   "outputs": [],
   "source": [
    "import torch \n",
    "import torch.nn as nn\n",
    "import torchvision.datasets as dsets\n",
    "from skimage import transform\n",
    "import torchvision.transforms as transforms\n",
    "from torch.autograd import Variable\n",
    "from torch.utils.data import Dataset, DataLoader\n",
    "#from vis_utils import *\n",
    "import random;\n",
    "import math;"
   ]
  },
  {
   "cell_type": "markdown",
   "metadata": {},
   "source": [
    "### Data Loading"
   ]
  },
  {
   "cell_type": "code",
   "execution_count": 78,
   "metadata": {},
   "outputs": [],
   "source": [
    "# Declare the essential hyperparameters\n",
    "num_epochs = 5;\n",
    "batch_size = 100;\n",
    "learning_rate = 0.001;"
   ]
  },
  {
   "cell_type": "code",
   "execution_count": 79,
   "metadata": {
    "scrolled": true
   },
   "outputs": [
    {
     "data": {
      "text/html": [
       "<div>\n",
       "<style scoped>\n",
       "    .dataframe tbody tr th:only-of-type {\n",
       "        vertical-align: middle;\n",
       "    }\n",
       "\n",
       "    .dataframe tbody tr th {\n",
       "        vertical-align: top;\n",
       "    }\n",
       "\n",
       "    .dataframe thead th {\n",
       "        text-align: right;\n",
       "    }\n",
       "</style>\n",
       "<table border=\"1\" class=\"dataframe\">\n",
       "  <thead>\n",
       "    <tr style=\"text-align: right;\">\n",
       "      <th></th>\n",
       "      <th>label</th>\n",
       "      <th>pixel1</th>\n",
       "      <th>pixel2</th>\n",
       "      <th>pixel3</th>\n",
       "      <th>pixel4</th>\n",
       "      <th>pixel5</th>\n",
       "      <th>pixel6</th>\n",
       "      <th>pixel7</th>\n",
       "      <th>pixel8</th>\n",
       "      <th>pixel9</th>\n",
       "      <th>...</th>\n",
       "      <th>pixel775</th>\n",
       "      <th>pixel776</th>\n",
       "      <th>pixel777</th>\n",
       "      <th>pixel778</th>\n",
       "      <th>pixel779</th>\n",
       "      <th>pixel780</th>\n",
       "      <th>pixel781</th>\n",
       "      <th>pixel782</th>\n",
       "      <th>pixel783</th>\n",
       "      <th>pixel784</th>\n",
       "    </tr>\n",
       "  </thead>\n",
       "  <tbody>\n",
       "    <tr>\n",
       "      <th>0</th>\n",
       "      <td>2</td>\n",
       "      <td>0</td>\n",
       "      <td>0</td>\n",
       "      <td>0</td>\n",
       "      <td>0</td>\n",
       "      <td>0</td>\n",
       "      <td>0</td>\n",
       "      <td>0</td>\n",
       "      <td>0</td>\n",
       "      <td>0</td>\n",
       "      <td>...</td>\n",
       "      <td>0</td>\n",
       "      <td>0</td>\n",
       "      <td>0</td>\n",
       "      <td>0</td>\n",
       "      <td>0</td>\n",
       "      <td>0</td>\n",
       "      <td>0</td>\n",
       "      <td>0</td>\n",
       "      <td>0</td>\n",
       "      <td>0</td>\n",
       "    </tr>\n",
       "    <tr>\n",
       "      <th>1</th>\n",
       "      <td>9</td>\n",
       "      <td>0</td>\n",
       "      <td>0</td>\n",
       "      <td>0</td>\n",
       "      <td>0</td>\n",
       "      <td>0</td>\n",
       "      <td>0</td>\n",
       "      <td>0</td>\n",
       "      <td>0</td>\n",
       "      <td>0</td>\n",
       "      <td>...</td>\n",
       "      <td>0</td>\n",
       "      <td>0</td>\n",
       "      <td>0</td>\n",
       "      <td>0</td>\n",
       "      <td>0</td>\n",
       "      <td>0</td>\n",
       "      <td>0</td>\n",
       "      <td>0</td>\n",
       "      <td>0</td>\n",
       "      <td>0</td>\n",
       "    </tr>\n",
       "    <tr>\n",
       "      <th>2</th>\n",
       "      <td>6</td>\n",
       "      <td>0</td>\n",
       "      <td>0</td>\n",
       "      <td>0</td>\n",
       "      <td>0</td>\n",
       "      <td>0</td>\n",
       "      <td>0</td>\n",
       "      <td>0</td>\n",
       "      <td>5</td>\n",
       "      <td>0</td>\n",
       "      <td>...</td>\n",
       "      <td>0</td>\n",
       "      <td>0</td>\n",
       "      <td>0</td>\n",
       "      <td>30</td>\n",
       "      <td>43</td>\n",
       "      <td>0</td>\n",
       "      <td>0</td>\n",
       "      <td>0</td>\n",
       "      <td>0</td>\n",
       "      <td>0</td>\n",
       "    </tr>\n",
       "    <tr>\n",
       "      <th>3</th>\n",
       "      <td>0</td>\n",
       "      <td>0</td>\n",
       "      <td>0</td>\n",
       "      <td>0</td>\n",
       "      <td>1</td>\n",
       "      <td>2</td>\n",
       "      <td>0</td>\n",
       "      <td>0</td>\n",
       "      <td>0</td>\n",
       "      <td>0</td>\n",
       "      <td>...</td>\n",
       "      <td>3</td>\n",
       "      <td>0</td>\n",
       "      <td>0</td>\n",
       "      <td>0</td>\n",
       "      <td>0</td>\n",
       "      <td>1</td>\n",
       "      <td>0</td>\n",
       "      <td>0</td>\n",
       "      <td>0</td>\n",
       "      <td>0</td>\n",
       "    </tr>\n",
       "    <tr>\n",
       "      <th>4</th>\n",
       "      <td>3</td>\n",
       "      <td>0</td>\n",
       "      <td>0</td>\n",
       "      <td>0</td>\n",
       "      <td>0</td>\n",
       "      <td>0</td>\n",
       "      <td>0</td>\n",
       "      <td>0</td>\n",
       "      <td>0</td>\n",
       "      <td>0</td>\n",
       "      <td>...</td>\n",
       "      <td>0</td>\n",
       "      <td>0</td>\n",
       "      <td>0</td>\n",
       "      <td>0</td>\n",
       "      <td>0</td>\n",
       "      <td>0</td>\n",
       "      <td>0</td>\n",
       "      <td>0</td>\n",
       "      <td>0</td>\n",
       "      <td>0</td>\n",
       "    </tr>\n",
       "  </tbody>\n",
       "</table>\n",
       "<p>5 rows × 785 columns</p>\n",
       "</div>"
      ],
      "text/plain": [
       "   label  pixel1  pixel2  pixel3  pixel4  pixel5  pixel6  pixel7  pixel8  \\\n",
       "0      2       0       0       0       0       0       0       0       0   \n",
       "1      9       0       0       0       0       0       0       0       0   \n",
       "2      6       0       0       0       0       0       0       0       5   \n",
       "3      0       0       0       0       1       2       0       0       0   \n",
       "4      3       0       0       0       0       0       0       0       0   \n",
       "\n",
       "   pixel9  ...  pixel775  pixel776  pixel777  pixel778  pixel779  pixel780  \\\n",
       "0       0  ...         0         0         0         0         0         0   \n",
       "1       0  ...         0         0         0         0         0         0   \n",
       "2       0  ...         0         0         0        30        43         0   \n",
       "3       0  ...         3         0         0         0         0         1   \n",
       "4       0  ...         0         0         0         0         0         0   \n",
       "\n",
       "   pixel781  pixel782  pixel783  pixel784  \n",
       "0         0         0         0         0  \n",
       "1         0         0         0         0  \n",
       "2         0         0         0         0  \n",
       "3         0         0         0         0  \n",
       "4         0         0         0         0  \n",
       "\n",
       "[5 rows x 785 columns]"
      ]
     },
     "execution_count": 79,
     "metadata": {},
     "output_type": "execute_result"
    }
   ],
   "source": [
    "test_df = pd.read_csv('data/MNIST/raw/fashion-mnist_test.csv')\n",
    "test_labels_df = test_df['label']\n",
    "test_pixels_df = test_df.drop('label', axis=1)\n",
    "\n",
    "# This reads the csv file into a pandas dataframe\n",
    "train_df = pd.read_csv('data/MNIST/raw/fashion-mnist_train.csv')\n",
    "train_df.head()"
   ]
  },
  {
   "cell_type": "code",
   "execution_count": 80,
   "metadata": {},
   "outputs": [
    {
     "data": {
      "text/plain": [
       "array([2, 9, 6, ..., 8, 8, 7])"
      ]
     },
     "execution_count": 80,
     "metadata": {},
     "output_type": "execute_result"
    }
   ],
   "source": [
    "train_pixels_df = train_df.drop('label', axis=1)\n",
    "train_pixels_df.head()\n",
    "train_labels_df = train_df['label']\n",
    "train_labels_df.values"
   ]
  },
  {
   "cell_type": "markdown",
   "metadata": {},
   "source": [
    "* load the images BEFORE training so that you don't have to iterate/parse through files \n",
    "* create array for images\n",
    "* create array for label\n",
    "* iterate through each line and assign a label to images (index to each together) \n",
    "* download the clothing category txt file and additionally go to \"eval\" folder and download that file that separates data into test, training, and validation --> \n",
    "* write a function to get the labels\n",
    "* write a function to convert to pixels \n",
    "* make sure it's in form of np.array \n",
    "* remember to normalize data using \"mean\" technique \n",
    "* can cheat and use half the data hehehehehe\n",
    "* running it on paperspace will take 1 hour"
   ]
  },
  {
   "cell_type": "code",
   "execution_count": 81,
   "metadata": {},
   "outputs": [],
   "source": [
    "# In Pytorch, for data loading I implement a class that inherits the Dataset type and defines\n",
    "# the data reading functions and data access functions\n",
    "# process data beforehand and put that data into the dataset so that when you train your model, you are not processing through the data at the same time \n",
    "# dataset defines how you access and return the data...for example, you create a dataset class with the certain images in that class\n",
    "# data loader class (not as important, on the other hand, connects your dataset (acts as the delivery man while dataset class packages the data)\n",
    "class FashionDataset(Dataset):\n",
    "    def __init__(self, dataframe, labels):\n",
    "        self.labels = torch.LongTensor(labels)\n",
    "        self.df = dataframe\n",
    "        \n",
    "    def __getitem__(self, index):\n",
    "        # I'm using .loc to access the row of the dataframe by index\n",
    "        # HINT You don't need to do this but try normalizing your image vector before making it a torch Tensor.\n",
    "        # BONUS train your model with and without normalization and see what happens\n",
    "        img = torch.Tensor(self.df.loc[index].values)\n",
    "        label = self.labels[index]\n",
    "        return img, label\n",
    "\n",
    "    def __len__(self):\n",
    "        return len(self.labels)\n",
    "    \n",
    "    \n",
    "'''\n",
    "This class is for providing image data as (1, 28, 28) tensor as opposed to a (784) tensor. You\n",
    "use these for conv2d layers which are powerful for image recognition!\n",
    "'''\n",
    "class Fashion2DDataset(Dataset):\n",
    "    def __init__(self, dataframe, labels):\n",
    "        self.labels = torch.LongTensor(labels)\n",
    "        self.df = dataframe\n",
    "        \n",
    "    def __getitem__(self, index):\n",
    "        # I'm using .loc to access the row of the dataframe by index\n",
    "        a = self.df.loc[index].values\n",
    "        a = np.split(a, 28)\n",
    "        a = np.array([a])\n",
    "        img = torch.Tensor(a)\n",
    "        \n",
    "        label = self.labels[index]\n",
    "        return img, label\n",
    "\n",
    "    def __len__(self):\n",
    "        return len(self.labels)"
   ]
  },
  {
   "cell_type": "code",
   "execution_count": 82,
   "metadata": {},
   "outputs": [],
   "source": [
    "# Make data iterable \n",
    "# Define data loaders using DataLoader module: \n",
    "train_dataset = Fashion2DDataset(train_pixels_df, train_labels_df.values)\n",
    "test_dataset = Fashion2DDataset(test_pixels_df, test_labels_df.values)\n",
    "\n",
    "train_loader = torch.utils.data.DataLoader(dataset=train_dataset, \n",
    "                                           batch_size=batch_size, \n",
    "                                           shuffle=True)\n",
    "\n",
    "test_loader = torch.utils.data.DataLoader(dataset=test_dataset, \n",
    "                                          batch_size=batch_size, \n",
    "                                          shuffle=False)"
   ]
  },
  {
   "cell_type": "markdown",
   "metadata": {},
   "source": [
    "### The Network"
   ]
  },
  {
   "cell_type": "markdown",
   "metadata": {},
   "source": [
    "Time to implement the Neural Network graph! One of the reasons why PyTorch is preferred sometimes over TensorFlow and Keras is because it defines graphs easier and makes it more intuitive to understand. However, PyTorch doesn't implement a lot of the necessary functions that are available in TensorFlow, such as those used for transformations. (As a side note, TorchSample can instead be used for data augmentation). "
   ]
  },
  {
   "cell_type": "code",
   "execution_count": 91,
   "metadata": {},
   "outputs": [],
   "source": [
    "class Swish(nn.Module):\n",
    "    def forward(self, input):\n",
    "        return (input * torch.sigmoid(input))\n",
    "  \n",
    "    def __repr__(self):\n",
    "        return self.__class__.__name__ + ' ()'"
   ]
  },
  {
   "cell_type": "code",
   "execution_count": 92,
   "metadata": {},
   "outputs": [],
   "source": [
    "class CNNModel(nn.Module):\n",
    "    def __init__ (self):\n",
    "        super(CNNModel,self).__init__()\n",
    "        \n",
    "        self.cnn1=nn.Conv2d(in_channels=1,out_channels=16, kernel_size=3,stride=1,padding=1)\n",
    "        self.bn1=nn.BatchNorm2d(16)\n",
    "        self.swish1=Swish()\n",
    "        nn.init.xavier_normal(self.cnn1.weight)\n",
    "        self.maxpool1=nn.MaxPool2d(kernel_size=2,stride=1)\n",
    "        \n",
    "        self.cnn2=nn.Conv2d(in_channels=16, out_channels=32, kernel_size=3,stride=1,padding=1)\n",
    "        self.bn2=nn.BatchNorm2d(32)\n",
    "        self.swish2=Swish()\n",
    "        nn.init.xavier_normal(self.cnn2.weight)\n",
    "        self.maxpool2=nn.MaxPool2d(kernel_size=2)\n",
    "        \n",
    "        self.cnn3=nn.Conv2d(in_channels=32,out_channels=64, kernel_size=3,stride=1,padding=1)\n",
    "        self.bn3=nn.BatchNorm2d(64)\n",
    "        self.swish3=Swish()\n",
    "        nn.init.xavier_normal(self.cnn3.weight)\n",
    "        self.maxpool3=nn.MaxPool2d(kernel_size=2)\n",
    "        self.fc1 = nn.Linear(64*6*6,10)\n",
    "        \n",
    "        self.softmax=nn.Softmax(dim=1)\n",
    "        \n",
    "        \n",
    "    def forward(self,x):\n",
    "        out=self.cnn1(x)\n",
    "        out=self.bn1(out)\n",
    "        out=self.swish1(out)\n",
    "        out=self.maxpool1(out)\n",
    "        out=self.cnn2(out)\n",
    "        out=self.bn2(out)\n",
    "        out=self.swish2(out)\n",
    "        out=self.maxpool2(out)\n",
    "        out=self.cnn3(out)\n",
    "        out=self.bn3(out)\n",
    "        out=self.swish3(out)\n",
    "        out=self.maxpool3(out)\n",
    "        out=out.view(out.size(0),-1)\n",
    "        out=self.fc1(out)\n",
    "        out=self.softmax(out)\n",
    "        \n",
    "        return out"
   ]
  },
  {
   "cell_type": "code",
   "execution_count": 95,
   "metadata": {},
   "outputs": [],
   "source": [
    "model=CNNModel()\n",
    "\n",
    "if torch.cuda.is_available():\n",
    "    model.cuda()\n",
    "\n",
    "criterion=nn.BCELoss()\n",
    "\n",
    "learning_rate=0.015\n",
    "\n",
    "optimizer=torch.optim.Adagrad(model.parameters(),lr=learning_rate)\n",
    "\n",
    "scheduler = torch.optim.lr_scheduler.StepLR(optimizer, step_size=10, gamma=0.1)# this will decrease the learning rate by factor of 0.1 every 10 epochs"
   ]
  },
  {
   "cell_type": "code",
   "execution_count": 83,
   "metadata": {},
   "outputs": [],
   "source": [
    "## Neural Networks inherited via nn.Module class & define the graph in the constructor \n",
    "## Con\n",
    "#class CNN(nn.Module):\n",
    "#    # In the constructor, we define the layers using the provided modules from the nn package. \n",
    "#    # A sequence of a layer, normalization, activation and pooling can be defined as a Sequential. \n",
    "#    # For instance, a convolution layer is defined as nn.Conv2d(in_channels, out_channels, kernel_size, padding, stride). \n",
    "#    # After the two convolution layers and activations, end the network with a Fully Connected layer that outputs to 10 classes.\n",
    "#    def __init__(self):\n",
    "#        super(CNN, self).__init__()\n",
    "#        self.layer1 = nn.Sequential(\n",
    "#            nn.Conv2d(1, 16, kernel_size=5, padding=2),\n",
    "#            nn.BatchNorm2d(16),\n",
    "#            nn.ReLU(),\n",
    "#            nn.MaxPool2d(2))\n",
    "#        self.layer2 = nn.Sequential(\n",
    "#            nn.Conv2d(16, 32, kernel_size=5, padding=2),\n",
    "#            nn.BatchNorm2d(32),\n",
    "#            nn.ReLU(),\n",
    "#            nn.MaxPool2d(2))\n",
    "#        self.fc = nn.Linear(7*7*32, 10)\n",
    "        \n",
    "#    # The forward function is called on the NN for a set of inputs, & it passes that input through the different layers that have been defined. \n",
    "#    # In this case, pass x through 1st layer, pass it’s output through 2nd layer, & pass that through final fully connected layer to get output. \n",
    "#    # The view function in the code about reshapes the output to match dimensions required for final layer.\n",
    "#    def forward(self, x):\n",
    "#        out = self.layer1(x)\n",
    "#        out = self.layer2(out)\n",
    "#        out = out.view(out.size(0), -1)\n",
    "#        out = self.fc(out)\n",
    "#        return out"
   ]
  },
  {
   "cell_type": "markdown",
   "metadata": {},
   "source": [
    "### Instantiating the Model Class"
   ]
  },
  {
   "cell_type": "code",
   "execution_count": 96,
   "metadata": {},
   "outputs": [],
   "source": [
    "model = CNN()"
   ]
  },
  {
   "cell_type": "markdown",
   "metadata": {},
   "source": [
    "### Instantiating the Loss Class"
   ]
  },
  {
   "cell_type": "code",
   "execution_count": 97,
   "metadata": {},
   "outputs": [],
   "source": [
    "criterion = nn.CrossEntropyLoss();"
   ]
  },
  {
   "cell_type": "markdown",
   "metadata": {},
   "source": [
    "### Instantiating the Optimizer Class"
   ]
  },
  {
   "cell_type": "code",
   "execution_count": 101,
   "metadata": {},
   "outputs": [],
   "source": [
    "learning_rate = 0.1\n",
    "optimizer = torch.optim.Adam(model.parameters(), lr=learning_rate)"
   ]
  },
  {
   "cell_type": "markdown",
   "metadata": {},
   "source": [
    "### Training the Model"
   ]
  },
  {
   "cell_type": "code",
   "execution_count": 103,
   "metadata": {},
   "outputs": [
    {
     "name": "stdout",
     "output_type": "stream",
     "text": [
      "Iteration: 60. Loss: 0.44628772139549255. Accuracy: 85\n",
      "Iteration: 120. Loss: 0.5890499353408813. Accuracy: 83\n",
      "Iteration: 180. Loss: 0.3337588608264923. Accuracy: 85\n",
      "Iteration: 240. Loss: 0.4609559178352356. Accuracy: 84\n",
      "Iteration: 300. Loss: 0.5433986783027649. Accuracy: 81\n",
      "Iteration: 360. Loss: 0.5241296887397766. Accuracy: 85\n",
      "Iteration: 420. Loss: 0.48193198442459106. Accuracy: 85\n",
      "Iteration: 480. Loss: 0.4080311954021454. Accuracy: 85\n",
      "Iteration: 540. Loss: 0.4110163152217865. Accuracy: 86\n",
      "Iteration: 600. Loss: 0.47327613830566406. Accuracy: 83\n"
     ]
    }
   ],
   "source": [
    "iter = 0\n",
    "losses = []\n",
    "accuracies = []\n",
    "for epoch in range(1):\n",
    "    for i, (images, labels) in enumerate(train_loader):\n",
    "        # Load images with gradient accumulation capabilities\n",
    "#         images = images.view(-1, 28*28).requires_grad_()\n",
    "\n",
    "        # Clear gradients w.r.t. parameters\n",
    "        optimizer.zero_grad()\n",
    "\n",
    "        # Forward pass to get output/logits\n",
    "        outputs = model(images)\n",
    "\n",
    "        # Calculate Loss: softmax --> cross entropy loss\n",
    "        loss = criterion(outputs, labels)\n",
    "\n",
    "        # Getting gradients w.r.t. parameters\n",
    "        loss.backward()\n",
    "\n",
    "        # Updating parameters\n",
    "        optimizer.step()\n",
    "\n",
    "        iter += 1\n",
    "\n",
    "        if iter % 60 == 0:\n",
    "            # Calculate Accuracy         \n",
    "            correct = 0\n",
    "            total = 0\n",
    "            # Iterate through test dataset\n",
    "            for images, labels in test_loader:\n",
    "                # Load images with gradient accumulation capabilities\n",
    "#                 images = images.view(-1, 28*28).requires_grad_()\n",
    "\n",
    "                # Forward pass only to get logits/output\n",
    "                outputs = model(images)\n",
    "\n",
    "                # Get predictions from the maximum value\n",
    "                _, predicted = torch.max(outputs.data, 1)\n",
    "\n",
    "                # Total number of labels\n",
    "                total += labels.size(0)\n",
    "\n",
    "                # Total correct predictions\n",
    "                correct += (predicted == labels).sum()\n",
    "\n",
    "            accuracy = 100 * correct / total\n",
    "            \n",
    "            accuracies.append(accuracy)\n",
    "            losses.append(loss.item())\n",
    "            \n",
    "            # Print Loss\n",
    "            print('Iteration: {}. Loss: {}. Accuracy: {}'.format(iter, loss.item(), accuracy))"
   ]
  },
  {
   "cell_type": "markdown",
   "metadata": {},
   "source": [
    "### Evaluating Model on Test Dataset"
   ]
  },
  {
   "cell_type": "code",
   "execution_count": 104,
   "metadata": {},
   "outputs": [
    {
     "name": "stdout",
     "output_type": "stream",
     "text": [
      "Test Accuracy of the model on the 10000 test images: 10.0000 %\n"
     ]
    }
   ],
   "source": [
    "# Change the mode of the network to eval\n",
    "# Feed the images through the network to get the outputs\n",
    "# Get the output label by taking the max from the one-hot outputs\n",
    "# Count the correct predictions by comparing them to the labels\n",
    "cnn.eval()\n",
    "correct = 0\n",
    "total = 0\n",
    "for images, labels in test_loader:\n",
    "    images = Variable(images.float())\n",
    "    outputs = cnn(images)\n",
    "    _, predicted = torch.max(outputs.data, 1)\n",
    "    total += labels.size(0)\n",
    "    correct += (predicted == labels).sum()\n",
    "print('Test Accuracy of the model on the 10000 test images: %.4f %%' % (100 * correct / total))"
   ]
  },
  {
   "cell_type": "markdown",
   "metadata": {},
   "source": [
    "### Visualizing the Loss"
   ]
  },
  {
   "cell_type": "code",
   "execution_count": 105,
   "metadata": {},
   "outputs": [
    {
     "data": {
      "image/png": "[encoded data removed]",
      "text/plain": [
       "<Figure size 432x288 with 1 Axes>"
      ]
     },
     "metadata": {},
     "output_type": "display_data"
    }
   ],
   "source": [
    "# visualize the loss from the training over the number of epochs\n",
    "losses_in_epochs = losses[0::600]\n",
    "plt.xkcd();\n",
    "plt.xlabel('Epoch #');\n",
    "plt.ylabel('Loss');\n",
    "plt.plot(losses_in_epochs);\n",
    "plt.show();"
   ]
  },
  {
   "cell_type": "markdown",
   "metadata": {},
   "source": [
    "### Visualizing the Filters"
   ]
  },
  {
   "cell_type": "code",
   "execution_count": 106,
   "metadata": {},
   "outputs": [
    {
     "data": {
      "text/plain": [
       "<Figure size 432x288 with 0 Axes>"
      ]
     },
     "metadata": {},
     "output_type": "display_data"
    },
    {
     "data": {
      "image/png": "[encoded data removed]",
      "text/plain": [
       "<Figure size 576x216 with 16 Axes>"
      ]
     },
     "metadata": {},
     "output_type": "display_data"
    },
    {
     "data": {
      "image/png": "[encoded data removed]",
      "text/plain": [
       "<Figure size 576x360 with 32 Axes>"
      ]
     },
     "metadata": {},
     "output_type": "display_data"
    }
   ],
   "source": [
    "# In a convolutional network, let the network learn the filters that help it classify an image. \n",
    "# For instance, network could identify edges by learning a filter that acts as an edge detector. \n",
    "# A more complicated one could learn to identify the handles on a bag.\n",
    "# Let’s visualize the filters from the first layer and the second layer:\n",
    "def plot_kernels(tensor, num_cols=6):\n",
    "    num_kernels = tensor.shape[0]\n",
    "    num_rows = 1+ num_kernels // num_cols\n",
    "    fig = plt.figure(figsize=(num_cols,num_rows))\n",
    "    for i in range(num_kernels):\n",
    "        ax1 = fig.add_subplot(num_rows,num_cols,i+1)\n",
    "        ax1.imshow(tensor[i][0,:,:], cmap='gray')\n",
    "        ax1.axis('off')\n",
    "        ax1.set_xticklabels([])\n",
    "        ax1.set_yticklabels([])\n",
    "plt.subplots_adjust(wspace=0.1, hspace=0.1)\n",
    "plt.show()\n",
    "filters = cnn.modules();\n",
    "model_layers = [i for i in cnn.children()];\n",
    "first_layer = model_layers[0];\n",
    "second_layer = model_layers[1];\n",
    "first_kernels = first_layer[0].weight.data.numpy()\n",
    "plot_kernels(first_kernels, 8)\n",
    "second_kernels = second_layer[0].weight.data.numpy()\n",
    "plot_kernels(second_kernels, 8)"
   ]
  },
  {
   "cell_type": "code",
   "execution_count": null,
   "metadata": {},
   "outputs": [],
   "source": []
  }
 ],
 "metadata": {
  "kernelspec": {
   "display_name": "Python 3",
   "language": "python",
   "name": "python3"
  },
  "language_info": {
   "codemirror_mode": {
    "name": "ipython",
    "version": 3
   },
   "file_extension": ".py",
   "mimetype": "text/x-python",
   "name": "python",
   "nbconvert_exporter": "python",
   "pygments_lexer": "ipython3",
   "version": "3.7.3"
  }
 },
 "nbformat": 4,
 "nbformat_minor": 2
}
